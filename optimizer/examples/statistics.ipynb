{
 "cells": [
  {
   "attachments": {},
   "cell_type": "markdown",
   "metadata": {},
   "source": [
    "# Convergence speed analysis\n",
    "\n",
    "This notebook assumes the user is in his own machine."
   ]
  },
  {
   "attachments": {},
   "cell_type": "markdown",
   "metadata": {},
   "source": [
    "**Change this if necessary:**"
   ]
  },
  {
   "cell_type": "code",
   "execution_count": 20,
   "metadata": {},
   "outputs": [],
   "source": [
    "USER = \"st76i1_5\"\n",
    "GROUP = \"st76i1\"\n",
    "PASSWORD = input('Password: ')"
   ]
  },
  {
   "cell_type": "code",
   "execution_count": 21,
   "metadata": {},
   "outputs": [],
   "source": [
    "import sys\n",
    "sys.path.append('/home/viniciustmoraes/Desktop/ST7Project/propagation-code-optimization') # change this"
   ]
  },
  {
   "attachments": {},
   "cell_type": "markdown",
   "metadata": {},
   "source": [
    "### Generate runs"
   ]
  },
  {
   "cell_type": "code",
   "execution_count": 22,
   "metadata": {},
   "outputs": [],
   "source": [
    "# make upload\n",
    "!sshpass -p {PASSWORD} \\\n",
    "    scp -r ../../optimizer/ {USER}@chome.metz.supelec.fr:/usr/users/{GROUP}/{USER}/\n"
   ]
  },
  {
   "cell_type": "code",
   "execution_count": 25,
   "metadata": {},
   "outputs": [],
   "source": [
    "# Defines the number of times an algorithm is repeated for statistical analysis\n",
    "n_stat = int(input('Number of simulations for statistical analysis: '))          \n",
    "\n",
    "# run algorithm on cluster\n",
    "runs = [\n",
    "    \"--algorithm hill_climbing --steps 100\",\n",
    "    \"--algorithm greedy --steps 10\",\n",
    "    \"--algorithm tabu_greedy --steps 10 --hparams '{\\\"n_tabu\\\":5}'\",\n",
    "    \"--algorithm simulated_annealing --steps 100 --hparams '{\\\"t0\\\":20}'\",\n",
    "    \"--algorithm csa --steps 100\",\n",
    "    \"--algorithm cmaes --steps 100\",\n",
    "]\n",
    "\n",
    "repeated_runs = []\n",
    "\n",
    "for i in runs:\n",
    "    repeated_runs += [i]*n_stat\n",
    "\n"
   ]
  },
  {
   "cell_type": "code",
   "execution_count": 26,
   "metadata": {},
   "outputs": [
    {
     "name": "stdout",
     "output_type": "stream",
     "text": [
      " ~\u0007\u001b[01;32mst76i1_5@kyle65\u001b[00m:\u001b[01;34m~\u001b[00m$ python3 -m optimizer.main --algorithm hill_climbing --steps 10 --log convergence_alg0_run0.log\n",
      "MPI startup(): PMI server not found. Please set I_MPI_PMI_LIBRARY variable if it is not a singleton case.\n",
      "[info] [Me=0] Args:\n",
      "\talgorithm: hill_climbing\n",
      "\tbatch: False\n",
      "\tflexible_shape: False\n",
      "\thparams: {}\n",
      "\tlog: convergence_alg0_run0.log\n",
      "\tphase: deploy\n",
      "\tproblem_size: [256, 256, 256]\n",
      "\tprogram_path: iso3dfd-st7\n",
      "\tseed: 33\n",
      "\tsteps: 10\n",
      "\tuse_energy: False\n",
      "[info] [Me=0] Hyperparameters:\n",
      "[info] [Me=0] real seed: 33\n",
      "[info] [Me=0] Executed command: /usr/bin/mpirun -np 1 -map-by ppr:1:node:PE=16 python3 -m optimizer.main --algorithm hill_climbing --hparams '{}' --log convergence_alg0_run0.log --phase run --problem_size 256 256 256 --program_path iso3dfd-st7 --seed 33 --steps 10 \n",
      "Unable to init server: Could not connect: Connection refused\n",
      "Unable to init server: Impossible de se connecter : Connection refused\n",
      "\n",
      "(main.py:51759): Gdk-CRITICAL **: 19:11:52.643: gdk_cursor_new_for_display: assertion 'GDK_IS_DISPLAY (display)' failed\n",
      "[info] [Me=0] Args:\n",
      "\talgorithm: hill_climbing\n",
      "\tbatch: False\n",
      "\tflexible_shape: False\n",
      "\thparams: {}\n",
      "\tlog: convergence_alg0_run0.log\n",
      "\tphase: run\n",
      "\tproblem_size: [256, 256, 256]\n",
      "\tprogram_path: iso3dfd-st7\n",
      "\tseed: 33\n",
      "\tsteps: 10\n",
      "\tuse_energy: False\n",
      "[info] [Me=0] Hyperparameters:\n",
      "[info] [Me=0] real seed: 33\n",
      "[info] [Me=0] Simulator initialized\n",
      "[info] [Me=0] Starting hill_climbing\n",
      "[19:11:54]\t[Me=0]\t[k=0]\t[eval=1]\tCost=1315.12\t-O2 avx 256 256 256 16 256 3 3\t(Initial)\n",
      "[19:11:55]\t[Me=0]\t[k=1]\t[eval=2]\tCost=1313.92\t-O2 avx512 256 256 256 16 256 3 3\n",
      "[19:11:57]\t[Me=0]\t[k=2]\t[eval=3]\tCost=1235.31\t-O2 avx 256 256 256 16 256 3 2\n",
      "[19:11:58]\t[Me=0]\t[k=3]\t[eval=4]\tCost=1315.97\t-O3 avx 256 256 256 16 256 3 3\t(New best!)\n",
      "[19:12:00]\t[Me=0]\t[k=4]\t[eval=5]\tCost=1296.76\t-O3 avx 256 256 256 16 256 2 3\n",
      "[19:12:01]\t[Me=0]\t[k=5]\t[eval=6]\tCost=1317.68\t-O3 avx2 256 256 256 16 256 3 3\t(New best!)\n",
      "[19:12:03]\t[Me=0]\t[k=6]\t[eval=7]\tCost=1315.9\t-O3 avx512 256 256 256 16 256 3 3\n",
      "[19:12:04]\t[Me=0]\t[k=7]\t[eval=8]\tCost=1233.9\t-O3 avx2 256 256 256 16 256 3 2\n",
      "[19:12:06]\t[Me=0]\t[k=8]\t[eval=9]\tCost=1336.8\t-O3 avx2 256 256 256 16 256 4 3\t(New best!)\n",
      "[19:12:07]\t[Me=0]\t[k=9]\t[eval=10]\tCost=1328.56\t-O3 avx2 256 256 256 16 256 5 3\n",
      "[19:12:09]\t[Me=0]\t[k=10]\t[eval=11]\tCost=1250.7\t-O3 avx2 256 256 256 16 256 4 2\n",
      "[info] [Me=0] Path taken:\n",
      "\t1315.12 -O2 avx 256 256 256 16 256 3 3\n",
      "\t1315.97 -O3 avx 256 256 256 16 256 3 3\n",
      "\t1317.68 -O3 avx2 256 256 256 16 256 3 3\n",
      "\t1336.8 -O3 avx2 256 256 256 16 256 4 3\n",
      "[info] [Me=0] Best solution found:\n",
      "\t1336.8 -O3 avx2 256 256 256 16 256 4 3\n",
      "\n",
      "[info] [Me=0] Gathering solutions from all processes\n",
      "[info] [Me=0] Best solutions:\n",
      "\t1336.8 -O3 avx2 256 256 256 16 256 4 3 Final evaluation: 1335.97\n",
      "[info] [Me=0] Best overall:\n",
      "\t1335.97 -O3 avx2 256 256 256 16 256 4 3\n",
      "[info] [Me=0] Total cost evaluations: 11\n",
      "[info] [Me=0] Elapsed time: 3.67 seconds\n",
      "[info] [Me=0] \n",
      "Run finished\n"
     ]
    }
   ],
   "source": [
    "\n",
    "import pexpect\n",
    "\n",
    "child = pexpect.spawn(f\"sshpass -p {PASSWORD} \\\n",
    "                      ssh -tt {USER}@chome.metz.supelec.fr \\\n",
    "                      srun -p cpu_tp -N 1 -n 32 --pty bash\",\n",
    "                      timeout=5*60)\n",
    "\n",
    "prompt = f\"{USER}@kyle[0-9]+:\"\n",
    "\n",
    "for i in range(len(repeated_runs)):\n",
    "    occupied = child.expect([prompt, \"srun: job [1-9]+ queued and waiting for resources\"])\n",
    "\n",
    "    if occupied == 0:\n",
    "        cmd = f\"python3 -m optimizer.main {repeated_runs[i]} --log convergence_alg{i//n_stat}_run{i%n_stat}.log\"\n",
    "        child.sendline(cmd)\n",
    "        running = 1\n",
    "        while running == 1:\n",
    "            running = child.expect(['Run finished', '\\n'])\n",
    "            output = child.before.decode()\n",
    "            print(output)\n",
    "        output = child.after.decode()\n",
    "        print(output)\n",
    "\n",
    "    elif occupied == 1:\n",
    "        raise Exception(\"Error: no resource available. Try running `mysrun` and `scancel` on the remote machine.\")\n",
    "    \n",
    "child.close()\n"
   ]
  },
  {
   "cell_type": "code",
   "execution_count": 27,
   "metadata": {},
   "outputs": [],
   "source": [
    "# make get_logs\n",
    "!mkdir -p tmp/\n",
    "!sshpass -p {PASSWORD} \\\n",
    "    scp '{USER}@chome.metz.supelec.fr:/usr/users/{GROUP}/{USER}/convergence_alg*.log' ./tmp/"
   ]
  },
  {
   "attachments": {},
   "cell_type": "markdown",
   "metadata": {},
   "source": [
    "### Convert logs to data"
   ]
  },
  {
   "cell_type": "code",
   "execution_count": null,
   "metadata": {},
   "outputs": [],
   "source": [
    "from optimizer.logger import log_to_list\n",
    "\n",
    "data = {}\n",
    "data['hillclimbing'] = log_to_list('tmp/convergence_run_0.log')\n",
    "data['greedy'] = log_to_list('tmp/convergence_run_1.log')\n",
    "data['greedytabu'] = log_to_list('tmp/convergence_run_2.log')\n",
    "data['sa'] = log_to_list('tmp/convergence_run_3.log')\n",
    "data['csa'] = log_to_list('tmp/convergence_run_4.log')"
   ]
  },
  {
   "attachments": {},
   "cell_type": "markdown",
   "metadata": {},
   "source": [
    "### Plot graphs"
   ]
  },
  {
   "attachments": {},
   "cell_type": "markdown",
   "metadata": {},
   "source": [
    "Hill Climbing"
   ]
  },
  {
   "cell_type": "code",
   "execution_count": null,
   "metadata": {},
   "outputs": [],
   "source": [
    "alg = 0\n",
    "\n",
    "# extract data with flairs (either Initial or New best)\n",
    "new_data = {'hillclimbing': []}\n",
    "for line in data['hillclimbing']:\n",
    "    if 'flair' in line:\n",
    "       new_data['hillclimbing'].append(line)\n",
    "\n",
    "for k in range(n_stat):\n",
    "    #todo\n",
    "\n",
    "\n",
    "y0 = [float(new_data['hillclimbing'][i]['Cost']) for i in range(0, len(new_data['hillclimbing']))]\n",
    "x0 = [float(new_data['hillclimbing'][i]['eval']) for i in range(0, len(new_data['hillclimbing']))]\n",
    "\n",
    "y0raw = [float(data['hillclimbing'][i]['Cost']) for i in range(0, len(data['hillclimbing']))]\n",
    "x0raw = [float(data['hillclimbing'][i]['eval']) for i in range(0, len(data['hillclimbing']))]"
   ]
  },
  {
   "cell_type": "code",
   "execution_count": null,
   "metadata": {},
   "outputs": [],
   "source": [
    "from matplotlib import pyplot as plt\n",
    "\n",
    "plt.plot(x0, y0, label='Best solutions path')\n",
    "plt.plot(x0raw, y0raw, '--', label='Every evaluation path')\n",
    "plt.legend()\n",
    "plt.xlabel(\"No. of evaluations\")\n",
    "plt.ylabel(\"Cost\")\n",
    "plt.title(\"Hill Climbing\")\n",
    "plt.grid()"
   ]
  },
  {
   "attachments": {},
   "cell_type": "markdown",
   "metadata": {},
   "source": [
    "Greedy Hill Climbing"
   ]
  },
  {
   "cell_type": "code",
   "execution_count": null,
   "metadata": {},
   "outputs": [],
   "source": [
    "alg += 1\n",
    "# no need to only extract data with flairs\n",
    "\n",
    "y1 = [float(data['greedy'][i]['Cost']) for i in range(0, len(data['greedy']))]\n",
    "x1 = [float(data['greedy'][i]['eval']) for i in range(0, len(data['greedy']))]"
   ]
  },
  {
   "cell_type": "code",
   "execution_count": null,
   "metadata": {},
   "outputs": [],
   "source": [
    "from matplotlib import pyplot as plt\n",
    "\n",
    "plt.plot(x1,y1)\n",
    "plt.xlabel(\"No. of evaluations\")\n",
    "plt.ylabel(\"Cost\")\n",
    "plt.title(\"Greedy Hill Climbing\")\n",
    "plt.grid()"
   ]
  },
  {
   "attachments": {},
   "cell_type": "markdown",
   "metadata": {},
   "source": [
    "Tabu-Greedy Hill Climbing"
   ]
  },
  {
   "cell_type": "code",
   "execution_count": null,
   "metadata": {},
   "outputs": [],
   "source": [
    "alg += 1\n",
    "# no need to only extract data with flairs\n",
    "\n",
    "y2 = [float(data['greedytabu'][i]['Cost']) for i in range(0, len(data['greedytabu']))]\n",
    "x2 = [float(data['greedytabu'][i]['eval']) for i in range(0, len(data['greedytabu']))]"
   ]
  },
  {
   "cell_type": "code",
   "execution_count": null,
   "metadata": {},
   "outputs": [],
   "source": [
    "from matplotlib import pyplot as plt\n",
    "\n",
    "plt.plot(x2,y2)\n",
    "plt.xlabel(\"No. of evaluations\")\n",
    "plt.ylabel(\"Cost\")\n",
    "plt.title(\"Tabu-Greedy Hill Climbing\")\n",
    "plt.grid()"
   ]
  },
  {
   "attachments": {},
   "cell_type": "markdown",
   "metadata": {},
   "source": [
    "Simulated Annealing"
   ]
  },
  {
   "cell_type": "code",
   "execution_count": null,
   "metadata": {},
   "outputs": [],
   "source": [
    "alg += 1\n",
    "# extract data with flairs (Initial, New best or Risky choice)\n",
    "new_data['sa'] = []\n",
    "for line in data['sa']:\n",
    "    if 'flair' in line:\n",
    "       new_data['sa'].append(line)\n",
    "\n",
    "y3 = [float(new_data['sa'][i]['Cost']) for i in range(0, len(new_data['sa']))]\n",
    "x3 = [float(new_data['sa'][i]['eval']) for i in range(0, len(new_data['sa']))]\n",
    "\n",
    "y3raw = [float(data['sa'][i]['Cost']) for i in range(0, len(data['sa']))]\n",
    "x3raw = [float(data['sa'][i]['eval']) for i in range(0, len(data['sa']))]"
   ]
  },
  {
   "cell_type": "code",
   "execution_count": null,
   "metadata": {},
   "outputs": [],
   "source": [
    "from matplotlib import pyplot as plt\n",
    "\n",
    "plt.plot(x3, y3, label='Best solutions path')\n",
    "plt.plot(x3raw, y3raw, '--', label='Every evaluation path')\n",
    "plt.legend()\n",
    "plt.xlabel(\"No. of evaluations\")\n",
    "plt.ylabel(\"Cost\")\n",
    "plt.title(\"Simulated Annealing\")\n",
    "plt.grid()"
   ]
  },
  {
   "attachments": {},
   "cell_type": "markdown",
   "metadata": {},
   "source": [
    "Curious Simulated Annealing (CSA)"
   ]
  },
  {
   "cell_type": "code",
   "execution_count": null,
   "metadata": {},
   "outputs": [],
   "source": [
    "alg += 1\n",
    "# no need to only extract data with flairs\n",
    "\n",
    "y4raw = [float(data['csa'][i]['Cost']) for i in range(0, len(data['csa']))]\n",
    "x4raw = [float(data['csa'][i]['eval']) for i in range(0, len(data['csa']))]"
   ]
  },
  {
   "cell_type": "code",
   "execution_count": null,
   "metadata": {},
   "outputs": [],
   "source": [
    "from matplotlib import pyplot as plt\n",
    "\n",
    "plt.plot(x4raw, y4raw, '--', label='Every evaluation path')\n",
    "plt.xlabel(\"No. of evaluations\")\n",
    "plt.ylabel(\"Cost\")\n",
    "plt.title(\"Curious Simulated Annealing\")\n",
    "plt.grid()"
   ]
  },
  {
   "attachments": {},
   "cell_type": "markdown",
   "metadata": {},
   "source": [
    "### Convergence speed comparison per number of evaluations"
   ]
  },
  {
   "cell_type": "code",
   "execution_count": null,
   "metadata": {},
   "outputs": [],
   "source": [
    "from matplotlib import pyplot as plt\n",
    "\n",
    "plt.plot(x0, y0, label='Hill Climbing')\n",
    "plt.plot(x1, y1, label='Greedy Hill Climbing')\n",
    "plt.plot(x2, y2, label='Tabu-Greedy Hill Climbing')\n",
    "plt.plot(x3, y3, label='Simulated Annealing')\n",
    "plt.legend()\n",
    "plt.xlabel(\"No. of evaluations\")\n",
    "plt.ylabel(\"Cost (throughput)\")\n",
    "plt.title(\"Algorithm convergence speed comparison\")\n",
    "plt.grid()"
   ]
  }
 ],
 "metadata": {
  "kernelspec": {
   "display_name": "base",
   "language": "python",
   "name": "python3"
  },
  "language_info": {
   "codemirror_mode": {
    "name": "ipython",
    "version": 3
   },
   "file_extension": ".py",
   "mimetype": "text/x-python",
   "name": "python",
   "nbconvert_exporter": "python",
   "pygments_lexer": "ipython3",
   "version": "3.10.6"
  },
  "orig_nbformat": 4
 },
 "nbformat": 4,
 "nbformat_minor": 2
}
