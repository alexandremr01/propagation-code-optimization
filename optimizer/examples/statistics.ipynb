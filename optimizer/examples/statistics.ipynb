{
 "cells": [
  {
   "attachments": {},
   "cell_type": "markdown",
   "metadata": {},
   "source": [
    "# Convergence speed analysis\n",
    "\n",
    "This notebook assumes the user is in his own machine."
   ]
  },
  {
   "attachments": {},
   "cell_type": "markdown",
   "metadata": {},
   "source": [
    "**Change this if necessary:**"
   ]
  },
  {
   "cell_type": "code",
   "execution_count": null,
   "metadata": {},
   "outputs": [],
   "source": [
    "USER = \"st76i1_5\"\n",
    "GROUP = \"st76i1\"\n",
    "PASSWORD = input('Password: ')"
   ]
  },
  {
   "cell_type": "code",
   "execution_count": null,
   "metadata": {},
   "outputs": [],
   "source": [
    "import sys\n",
    "sys.path.append('/home/viniciustmoraes/Desktop/ST7Project/propagation-code-optimization') # change this"
   ]
  },
  {
   "attachments": {},
   "cell_type": "markdown",
   "metadata": {},
   "source": [
    "### Generate runs"
   ]
  },
  {
   "cell_type": "code",
   "execution_count": null,
   "metadata": {},
   "outputs": [],
   "source": [
    "# make upload\n",
    "!sshpass -p {PASSWORD} \\\n",
    "    scp -r ../../optimizer/ {USER}@chome.metz.supelec.fr:/usr/users/{GROUP}/{USER}/\n"
   ]
  },
  {
   "cell_type": "code",
   "execution_count": null,
   "metadata": {},
   "outputs": [],
   "source": [
    "# Defines the number of times an algorithm is repeated for statistical analysis\n",
    "n_stat = int(input('Number of simulations for statistical analysis: '))          \n",
    "\n",
    "# run algorithm on cluster\n",
    "runs = [\n",
    "    \"--algorithm hill_climbing --steps 100\",\n",
    "    \"--algorithm greedy --steps 10\",\n",
    "    \"--algorithm tabu_greedy --steps 10 --hparams '{\\\"n_tabu\\\":5}'\",\n",
    "    \"--algorithm simulated_annealing --steps 100 --hparams '{\\\"t0\\\":20}'\",\n",
    "    \"--algorithm csa --steps 100\",\n",
    "    \"--algorithm cmaes --steps 100\",\n",
    "]\n",
    "\n",
    "repeated_runs = []\n",
    "\n",
    "for i in runs:\n",
    "    repeated_runs += [i]*n_stat\n",
    "\n"
   ]
  },
  {
   "cell_type": "code",
   "execution_count": null,
   "metadata": {},
   "outputs": [],
   "source": [
    "\n",
    "import pexpect\n",
    "\n",
    "child = pexpect.spawn(f\"sshpass -p {PASSWORD} \\\n",
    "                      ssh -tt {USER}@chome.metz.supelec.fr \\\n",
    "                      srun -p cpu_tp -N 1 -n 32 --pty bash\",\n",
    "                      timeout=5*60)\n",
    "\n",
    "prompt = f\"{USER}@kyle[0-9]+:\"\n",
    "\n",
    "for i in range(len(repeated_runs)):\n",
    "    occupied = child.expect([prompt, \"srun: job [1-9]+ queued and waiting for resources\"])\n",
    "\n",
    "    if occupied == 0:\n",
    "        cmd = f\"python3 -m optimizer.main {repeated_runs[i]} --log convergence_alg{i//n_stat}_run{i%n_stat}.log\"\n",
    "        child.sendline(cmd)\n",
    "        running = 1\n",
    "        while running == 1:\n",
    "            running = child.expect(['Run finished', '\\n'])\n",
    "            output = child.before.decode()\n",
    "            print(output)\n",
    "        output = child.after.decode()\n",
    "        print(output)\n",
    "\n",
    "    elif occupied == 1:\n",
    "        raise Exception(\"Error: no resource available. Try running `mysrun` and `scancel` on the remote machine.\")\n",
    "    \n",
    "child.close()\n"
   ]
  },
  {
   "cell_type": "code",
   "execution_count": null,
   "metadata": {},
   "outputs": [],
   "source": [
    "# make get_logs\n",
    "!mkdir -p tmp/\n",
    "!sshpass -p {PASSWORD} \\\n",
    "    scp '{USER}@chome.metz.supelec.fr:/usr/users/{GROUP}/{USER}/convergence_alg*.log' ./tmp/"
   ]
  },
  {
   "attachments": {},
   "cell_type": "markdown",
   "metadata": {},
   "source": [
    "### Convert logs to data"
   ]
  },
  {
   "cell_type": "code",
   "execution_count": null,
   "metadata": {},
   "outputs": [],
   "source": [
    "from optimizer.logger import log_to_list\n",
    "import numpy as np\n",
    "\n",
    "data = {}\n",
    "alg_to_name = {0:'hillclimbing', 1:'greedy', 2:'tabu', 3:'simulated_annealing', 4:'csa', 5:\"CMAES\"}\n",
    "\n",
    "for i in range(n_stat*(len(runs))):\n",
    "    alg = i//(len(runs)-1)\n",
    "    run = i%(len(runs)-1)\n",
    "\n",
    "    alg_name = alg_to_name[alg]\n",
    "    \n",
    "    data[alg_name+str(run)] = log_to_list(f'tmp/convergence_alg{alg}_run{run}.log')\n"
   ]
  },
  {
   "attachments": {},
   "cell_type": "markdown",
   "metadata": {},
   "source": [
    "### Plot graphs"
   ]
  },
  {
   "cell_type": "code",
   "execution_count": null,
   "metadata": {},
   "outputs": [],
   "source": [
    "# Extract data with flairs (either Initial or New best) -> Hill Climbing and Simulated Annealing\n",
    "new_data = {}\n",
    "\n",
    "for i in range(n_stat):\n",
    "    new_data[f'hillclimbing{i}'] = []\n",
    "    new_data[f'simulated_annealing{i}'] = []\n",
    "\n",
    "for key in data:\n",
    "    if 'hillclimbing' in key or 'simulated_annealing' in key:\n",
    "        for line in data[key]:\n",
    "            if 'flair' in line:\n",
    "                new_data[key].append(line)\n",
    "    else:\n",
    "        new_data[key] = data[key]\n",
    "                \n",
    "# Starts x and y variables for all the algorithms \n",
    "\n",
    "x0,y0 = [],[]\n",
    "x1,y1 = [],[]\n",
    "x2,y2 = [],[]\n",
    "x3,y3 = [],[]\n",
    "x4,y4 = [],[]\n",
    "x5,y5 = [],[]\n",
    "\n",
    "# For each iteration of each algorithm, writes the x (Nmbr of evaluations) and y (cost function) values\n",
    "\n",
    "for k in range(n_stat):\n",
    "    y0.append([float(new_data[f'hillclimbing{k}'][i]['Cost']) for i in range(0, len(new_data[f'hillclimbing{k}']))])\n",
    "    x0.append([float(new_data[f'hillclimbing{k}'][i]['eval']) for i in range(0, len(new_data[f'hillclimbing{k}']))])\n",
    "\n",
    "    y1.append([float(new_data[f'greedy{k}'][i]['Cost']) for i in range(0, len(new_data[f'greedy{k}']))])\n",
    "    x1.append([float(new_data[f'greedy{k}'][i]['eval']) for i in range(0, len(new_data[f'greedy{k}']))])\n",
    "\n",
    "    y2.append([float(new_data[f'tabu{k}'][i]['Cost']) for i in range(0, len(new_data[f'tabu{k}']))])\n",
    "    x2.append([float(new_data[f'tabu{k}'][i]['eval']) for i in range(0, len(new_data[f'tabu{k}']))])\n",
    "\n",
    "    y3.append([float(new_data[f'simulated_annealing{k}'][i]['Cost']) for i in range(0, len(new_data[f'simulated_annealing{k}']))])\n",
    "    x3.append([float(new_data[f'simulated_annealing{k}'][i]['eval']) for i in range(0, len(new_data[f'simulated_annealing{k}']))])\n",
    "\n",
    "    y4.append([float(new_data[f'csa{k}'][i]['Cost']) for i in range(0, len(new_data[f'csa{k}']))])\n",
    "    x4.append([float(new_data[f'csa{k}'][i]['eval']) for i in range(0, len(new_data[f'csa{k}']))])"
   ]
  },
  {
   "attachments": {},
   "cell_type": "markdown",
   "metadata": {},
   "source": [
    "### Statistical Treatement"
   ]
  },
  {
   "cell_type": "code",
   "execution_count": 169,
   "metadata": {},
   "outputs": [],
   "source": [
    "from scipy.interpolate import interp1d\n",
    "import numpy as np\n",
    "\n",
    "final_results = []\n",
    "\n",
    "values = [[x0,y0],[x1,y1],[x2,y2],[x3,y3],[x4,y4]]\n",
    "\n",
    "\n",
    "for (x_list,y_list) in values:    \n",
    "    # Determines which are the first and last limiting values for x, among the different runs\n",
    "    last_eval = min([max(x_list[i]) for i in range(len(x_list))])    \n",
    "    first_eval = max([min(x_list[i]) for i in range(len(x_list))])\n",
    "\n",
    "    # Define the common set of x values\n",
    "    x_common = np.arange(first_eval, last_eval+1)\n",
    "\n",
    "    # Initialize an array to store the interpolated y values\n",
    "    y_interp = np.zeros((len(x_common), n_stat))\n",
    "\n",
    "\n",
    "    for i in range(n_stat):\n",
    "        # Get the x and y values for the i-th run\n",
    "        \n",
    "        x = x_list[i][:]\n",
    "        y = y_list[i][:]\n",
    "\n",
    "\n",
    "        # Truncate the x and y values at the maximum number of evaluations\n",
    "        x_trunc,y_trunc = [],[]\n",
    "        for index in range(len(x)):\n",
    "            if x[index] <= last_eval:\n",
    "                x_trunc.append(x[index])\n",
    "                y_trunc.append(y[index])\n",
    "\n",
    "\n",
    "        # Interpolate the y values onto the common set of x values\n",
    "        f = interp1d(x_trunc, y_trunc, kind='cubic',fill_value=\"extrapolate\")\n",
    "        y_interp[:, i] = f(x_common)\n",
    "\n",
    "\n",
    "    # Calculate the mean and standard deviation of the interpolated y values\n",
    "    y_mean = np.mean(y_interp, axis=1)\n",
    "    y_std = np.std(y_interp, axis=1)\n",
    "\n",
    "    final_results.append([x_common, y_mean, y_std])\n",
    "\n"
   ]
  },
  {
   "attachments": {},
   "cell_type": "markdown",
   "metadata": {},
   "source": [
    "### Convergence speed comparison per number of evaluations"
   ]
  },
  {
   "cell_type": "code",
   "execution_count": 171,
   "metadata": {},
   "outputs": [
    {
     "data": {
      "text/plain": [
       "[array([ 1.,  2.,  3.,  4.,  5.,  6.,  7.,  8.,  9., 10., 11., 12., 13.,\n",
       "        14., 15., 16., 17., 18., 19., 20., 21., 22., 23., 24., 25., 26.,\n",
       "        27.]),\n",
       " array([1322.128     , 1335.12295619, 1338.18984717, 1336.20059952,\n",
       "        1333.94521947, 1335.886032  , 1346.40344178, 1370.31279844,\n",
       "        1401.62995664, 1407.698     , 1420.5211914 , 1435.26170256,\n",
       "        1439.31725124, 1443.09565738, 1446.92311912, 1450.33715638,\n",
       "        1453.42650021, 1456.18159577, 1458.24278734, 1458.76330819,\n",
       "        1459.47912337, 1460.30711083, 1461.03968717, 1461.61823801,\n",
       "        1461.98414892, 1462.07880551, 1461.84359335]),\n",
       " array([ 2.08041727, 29.66898096, 36.23571199, 28.37474625, 15.35046429,\n",
       "        13.30874842, 18.52735598, 15.53642887, 29.00620483, 31.31765726,\n",
       "        25.24683382,  6.01177678, 10.16520118, 12.69528636, 12.84554652,\n",
       "        11.34800479,  8.9013825 ,  6.25286124,  4.99048144,  5.91739839,\n",
       "         7.88979766,  9.95082074, 11.292358  , 10.75287794,  8.87405273,\n",
       "        14.87583111, 33.98614311])]"
      ]
     },
     "execution_count": 171,
     "metadata": {},
     "output_type": "execute_result"
    }
   ],
   "source": [
    "final_results[0]"
   ]
  },
  {
   "cell_type": "code",
   "execution_count": 192,
   "metadata": {},
   "outputs": [
    {
     "data": {
      "image/png": "[encoded data removed]",
      "text/plain": [
       "<Figure size 640x480 with 1 Axes>"
      ]
     },
     "metadata": {},
     "output_type": "display_data"
    }
   ],
   "source": [
    "from matplotlib import pyplot as plt\n",
    "asd = 3\n",
    "#plt.plot(final_results[asd][0],final_results[asd][1])\n",
    "\n",
    "x = final_results[asd][0]\n",
    "y = final_results[asd][1]\n",
    "error = final_results[asd][2]\n",
    "\n",
    "plt.plot(final_results[asd][0],final_results[asd][1],'b')\n",
    "\n",
    "plt.fill_between(x, y-error, y+error)\n",
    "plt.grid()"
   ]
  },
  {
   "cell_type": "code",
   "execution_count": null,
   "metadata": {},
   "outputs": [],
   "source": [
    "from matplotlib import pyplot as plt\n",
    "\n",
    "plt.plot(x0, y0, label='Hill Climbing')\n",
    "plt.plot(x1, y1, label='Greedy Hill Climbing')\n",
    "plt.plot(x2, y2, label='Tabu-Greedy Hill Climbing')\n",
    "plt.plot(x3, y3, label='Simulated Annealing')\n",
    "plt.legend()\n",
    "plt.xlabel(\"No. of evaluations\")\n",
    "plt.ylabel(\"Cost (throughput)\")\n",
    "plt.title(\"Algorithm convergence speed comparison\")\n",
    "plt.grid()"
   ]
  }
 ],
 "metadata": {
  "kernelspec": {
   "display_name": "base",
   "language": "python",
   "name": "python3"
  },
  "language_info": {
   "codemirror_mode": {
    "name": "ipython",
    "version": 3
   },
   "file_extension": ".py",
   "mimetype": "text/x-python",
   "name": "python",
   "nbconvert_exporter": "python",
   "pygments_lexer": "ipython3",
   "version": "3.10.6"
  },
  "orig_nbformat": 4
 },
 "nbformat": 4,
 "nbformat_minor": 2
}
