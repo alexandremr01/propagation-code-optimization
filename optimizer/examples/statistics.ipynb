{
 "cells": [
  {
   "attachments": {},
   "cell_type": "markdown",
   "metadata": {},
   "source": [
    "# Convergence speed analysis\n",
    "\n",
    "This notebook assumes the user is in his own machine."
   ]
  },
  {
   "attachments": {},
   "cell_type": "markdown",
   "metadata": {},
   "source": [
    "**Change this if necessary:**"
   ]
  },
  {
   "cell_type": "code",
   "execution_count": 2,
   "metadata": {},
   "outputs": [],
   "source": [
    "USER = \"st76i1_5\"\n",
    "GROUP = \"st76i1\"\n",
    "PASSWORD = input('Password: ')"
   ]
  },
  {
   "cell_type": "code",
   "execution_count": 3,
   "metadata": {},
   "outputs": [],
   "source": [
    "import sys\n",
    "sys.path.append('/home/viniciustmoraes/Desktop/ST7Project/propagation-code-optimization') # change this"
   ]
  },
  {
   "attachments": {},
   "cell_type": "markdown",
   "metadata": {},
   "source": [
    "### Generate runs"
   ]
  },
  {
   "cell_type": "code",
   "execution_count": 4,
   "metadata": {},
   "outputs": [],
   "source": [
    "# make upload\n",
    "!sshpass -p {PASSWORD} \\\n",
    "    scp -r ../../optimizer/ {USER}@chome.metz.supelec.fr:/usr/users/{GROUP}/{USER}/\n"
   ]
  },
  {
   "cell_type": "code",
   "execution_count": 5,
   "metadata": {},
   "outputs": [],
   "source": [
    "# Defines the number of times an algorithm is repeated for statistical analysis\n",
    "n_stat = int(input('Number of simulations for statistical analysis: '))          \n",
    "\n",
    "# run algorithm on cluster\n",
    "runs = [\n",
    "    \"--algorithm hill_climbing --steps 100\",\n",
    "    #\"--algorithm greedy --steps 10\",\n",
    "    #\"--algorithm tabu_greedy --steps 10 --hparams '{\\\"n_tabu\\\":5}'\",\n",
    "    #\"--algorithm simulated_annealing --steps 100 --hparams '{\\\"t0\\\":20}'\",\n",
    "    #\"--algorithm csa --steps 100\",\n",
    "    #\"--algorithm cmaes --steps 100\",\n",
    "]\n",
    "\n",
    "repeated_runs = []\n",
    "\n",
    "for i in runs:\n",
    "    repeated_runs += [i]*n_stat\n",
    "\n"
   ]
  },
  {
   "cell_type": "code",
   "execution_count": 6,
   "metadata": {},
   "outputs": [
    {
     "name": "stdout",
     "output_type": "stream",
     "text": [
      " ~\u0007\u001b[01;32mst76i1_5@kyle63\u001b[00m:\u001b[01;34m~\u001b[00m$ python3 -m optimizer.main --algorithm hill_climbing --steps 100 --log convergence_alg0_run1.log\n",
      "MPI startup(): PMI server not found. Please set I_MPI_PMI_LIBRARY variable if it is not a singleton case.\n",
      "[info] [Me=0] Args:\n",
      "\talgorithm: hill_climbing\n",
      "\tbatch: False\n",
      "\tflexible_shape: False\n",
      "\thparams: {}\n",
      "\tlog: convergence_alg0_run1.log\n",
      "\tphase: deploy\n",
      "\tproblem_size: [256, 256, 256]\n",
      "\tprogram_path: iso3dfd-st7\n",
      "\tseed: 33\n",
      "\tsteps: 100\n",
      "\tuse_energy: False\n",
      "[info] [Me=0] Hyperparameters:\n",
      "[info] [Me=0] real seed: 33\n",
      "[info] [Me=0] Executed command: /usr/bin/mpirun -np 1 -map-by ppr:1:node:PE=16 python3 -m optimizer.main --algorithm hill_climbing --hparams '{}' --log convergence_alg0_run1.log --phase run --problem_size 256 256 256 --program_path iso3dfd-st7 --seed 33 --steps 100 \n",
      "Unable to init server: Could not connect: Connection refused\n",
      "Unable to init server: Impossible de se connecter : Connection refused\n",
      "\n",
      "(main.py:179545): Gdk-CRITICAL **: 22:48:45.793: gdk_cursor_new_for_display: assertion 'GDK_IS_DISPLAY (display)' failed\n",
      "[info] [Me=0] Args:\n",
      "\talgorithm: hill_climbing\n",
      "\tbatch: False\n",
      "\tflexible_shape: False\n",
      "\thparams: {}\n",
      "\tlog: convergence_alg0_run1.log\n",
      "\tphase: run\n",
      "\tproblem_size: [256, 256, 256]\n",
      "\tprogram_path: iso3dfd-st7\n",
      "\tseed: 33\n",
      "\tsteps: 100\n",
      "\tuse_energy: False\n",
      "[info] [Me=0] Hyperparameters:\n",
      "[info] [Me=0] real seed: 33\n",
      "[info] [Me=0] Simulator initialized\n",
      "[info] [Me=0] Starting hill_climbing\n",
      "[22:48:47]\t[Me=0]\t[k=0]\t[eval=1]\tCost=1322.94\t-O2 avx 256 256 256 16 256 3 3\t(Initial)\n",
      "[22:48:48]\t[Me=0]\t[k=1]\t[eval=2]\tCost=1319.33\t-O2 avx2 256 256 256 16 256 3 3\n",
      "[22:48:50]\t[Me=0]\t[k=2]\t[eval=3]\tCost=1237.05\t-O2 avx 256 256 256 16 256 3 2\n",
      "[22:48:51]\t[Me=0]\t[k=3]\t[eval=4]\tCost=1320.74\t-O3 avx 256 256 256 16 256 3 3\n",
      "[22:48:53]\t[Me=0]\t[k=4]\t[eval=5]\tCost=1297.36\t-O2 avx 256 256 256 16 256 2 3\n",
      "[22:48:54]\t[Me=0]\t[k=5]\t[eval=6]\tCost=1332.76\t-O2 avx 256 256 256 16 256 3 4\t(New best!)\n",
      "[22:48:56]\t[Me=0]\t[k=6]\t[eval=7]\tCost=1329.7\t-O2 avx2 256 256 256 16 256 3 4\n",
      "[22:48:57]\t[Me=0]\t[k=7]\t[eval=8]\tCost=1320.18\t-O2 avx 256 256 256 16 256 3 3\n",
      "[22:48:59]\t[Me=0]\t[k=8]\t[eval=9]\tCost=1366.34\t-O2 avx 256 256 256 16 256 4 4\t(New best!)\n",
      "[22:49:00]\t[Me=0]\t[k=9]\t[eval=10]\tCost=1370.73\t-O2 avx 256 256 256 16 256 5 4\t(New best!)\n",
      "[22:49:01]\t[Me=0]\t[k=10]\t[eval=11]\tCost=1428.72\t-O2 avx 256 256 256 16 256 5 5\t(New best!)\n",
      "[22:49:03]\t[Me=0]\t[k=11]\t[eval=12]\tCost=1429.44\t-O2 avx 256 256 256 16 256 5 6\t(New best!)\n",
      "[22:49:04]\t[Me=0]\t[k=12]\t[eval=13]\tCost=1430.43\t-O2 avx 256 256 256 16 256 4 6\t(New best!)\n",
      "[22:49:06]\t[Me=0]\t[k=13]\t[eval=14]\tCost=1434.36\t-O3 avx 256 256 256 16 256 4 6\t(New best!)\n",
      "[22:49:07]\t[Me=0]\t[k=14]\t[eval=15]\tCost=1382.41\t-O3 avx 256 256 256 16 256 3 6\n",
      "[22:49:08]\t[Me=0]\t[k=15]\t[eval=16]\tCost=1434.23\t-O3 avx512 256 256 256 16 256 4 6\n",
      "[22:49:10]\t[Me=0]\t[k=16]\t[eval=17]\tCost=1433.79\t-O3 avx2 256 256 256 16 256 4 6\n",
      "[22:49:11]\t[Me=0]\t[k=17]\t[eval=18]\tCost=1451.09\t-O3 avx 256 256 256 16 256 4 7\t(New best!)\n",
      "[22:49:12]\t[Me=0]\t[k=18]\t[eval=19]\tCost=1458.41\t-O3 avx 256 256 256 16 256 4 8\t(New best!)\n",
      "[22:49:14]\t[Me=0]\t[k=19]\t[eval=20]\tCost=1459.59\t-Ofast avx 256 256 256 16 256 4 8\t(New best!)\n",
      "[22:49:15]\t[Me=0]\t[k=20]\t[eval=21]\tCost=1450.44\t-Ofast avx 256 256 256 16 256 4 7\n",
      "[22:49:16]\t[Me=0]\t[k=21]\t[eval=22]\tCost=1469.32\t-Ofast avx 256 256 256 16 256 4 9\t(New best!)\n",
      "[22:49:18]\t[Me=0]\t[k=22]\t[eval=23]\tCost=1440.39\t-Ofast avx 256 256 256 16 256 3 9\n",
      "[22:49:19]\t[Me=0]\t[k=23]\t[eval=24]\tCost=1472.69\t-Ofast avx2 256 256 256 16 256 4 9\t(New best!)\n",
      "[22:49:20]\t[Me=0]\t[k=24]\t[eval=25]\tCost=1470.33\t-Ofast avx512 256 256 256 16 256 4 9\n",
      "[22:49:22]\t[Me=0]\t[k=25]\t[eval=26]\tCost=1471.49\t-O3 avx2 256 256 256 16 256 4 9\n",
      "[22:49:23]\t[Me=0]\t[k=26]\t[eval=27]\tCost=1469.87\t-O2 avx2 256 256 256 16 256 4 9\n",
      "[22:49:25]\t[Me=0]\t[k=27]\t[eval=28]\tCost=1463.7\t-Ofast avx2 256 256 256 16 256 5 9\n",
      "[22:49:26]\t[Me=0]\t[k=28]\t[eval=29]\tCost=1462.41\t-Ofast avx2 256 256 256 16 256 4 8\n",
      "[22:49:27]\t[Me=0]\t[k=29]\t[eval=30]\tCost=1471.93\t-Ofast avx 256 256 256 16 256 4 9\n",
      "[22:49:29]\t[Me=0]\t[k=30]\t[eval=31]\tCost=1439.07\t-Ofast avx2 256 256 256 16 256 3 9\n",
      "[22:49:30]\t[Me=0]\t[k=31]\t[eval=32]\tCost=1478.88\t-Ofast avx2 256 256 256 16 256 4 10\t(New best!)\n",
      "[22:49:31]\t[Me=0]\t[k=32]\t[eval=33]\tCost=1481.73\t-O2 avx2 256 256 256 16 256 4 10\t(New best!)\n",
      "[22:49:33]\t[Me=0]\t[k=33]\t[eval=34]\tCost=1469.98\t-O2 avx2 256 256 256 16 256 5 10\n",
      "[22:49:34]\t[Me=0]\t[k=34]\t[eval=35]\tCost=1481.21\t-O2 avx2 256 256 256 16 256 4 11\n",
      "[22:49:35]\t[Me=0]\t[k=35]\t[eval=36]\tCost=1479.53\t-O3 avx2 256 256 256 16 256 4 10\n",
      "[22:49:37]\t[Me=0]\t[k=36]\t[eval=37]\tCost=1469.95\t-O2 avx2 256 256 256 16 256 4 9\n",
      "[22:49:38]\t[Me=0]\t[k=37]\t[eval=38]\tCost=1480.57\t-O2 avx512 256 256 256 16 256 4 10\n",
      "[22:49:39]\t[Me=0]\t[k=38]\t[eval=39]\tCost=1482.48\t-O2 avx 256 256 256 16 256 4 10\t(New best!)\n",
      "[22:49:41]\t[Me=0]\t[k=39]\t[eval=40]\tCost=1479.67\t-Ofast avx 256 256 256 16 256 4 10\n",
      "[22:49:42]\t[Me=0]\t[k=40]\t[eval=41]\tCost=1482.38\t-O2 avx512 256 256 256 16 256 4 10\n",
      "[22:49:43]\t[Me=0]\t[k=41]\t[eval=42]\tCost=1472.54\t-O2 avx 256 256 256 16 256 4 9\n",
      "[22:49:45]\t[Me=0]\t[k=42]\t[eval=43]\tCost=1451.53\t-O2 avx 256 256 256 16 256 3 10\n",
      "[22:49:46]\t[Me=0]\t[k=43]\t[eval=44]\tCost=1484.38\t-O2 avx 256 256 256 16 256 4 11\t(New best!)\n",
      "[22:49:47]\t[Me=0]\t[k=44]\t[eval=45]\tCost=1480.52\t-O2 avx 256 256 256 16 256 4 10\n",
      "[22:49:49]\t[Me=0]\t[k=45]\t[eval=46]\tCost=1482.32\t-O3 avx 256 256 256 16 256 4 11\n",
      "[22:49:50]\t[Me=0]\t[k=46]\t[eval=47]\tCost=1483.78\t-O2 avx 256 256 256 16 256 4 12\n",
      "[22:49:52]\t[Me=0]\t[k=47]\t[eval=48]\tCost=1481.81\t-Ofast avx 256 256 256 16 256 4 11\n",
      "[22:49:53]\t[Me=0]\t[k=48]\t[eval=49]\tCost=1482.31\t-O2 avx2 256 256 256 16 256 4 11\n",
      "[22:49:54]\t[Me=0]\t[k=49]\t[eval=50]\tCost=1454.59\t-O2 avx 256 256 256 16 256 3 11\n",
      "[22:49:56]\t[Me=0]\t[k=50]\t[eval=51]\tCost=1481.34\t-O2 avx512 256 256 256 16 256 4 11\n",
      "[22:49:57]\t[Me=0]\t[k=51]\t[eval=52]\tCost=1471.84\t-O2 avx 256 256 256 16 256 5 11\n",
      "[info] [Me=0] Algorithm exited: Best solution neighborhood was fully explored \n",
      "[info] [Me=0] Path taken:\n",
      "\t1322.94 -O2 avx 256 256 256 16 256 3 3\n",
      "\t1332.76 -O2 avx 256 256 256 16 256 3 4\n",
      "\t1366.34 -O2 avx 256 256 256 16 256 4 4\n",
      "\t1370.73 -O2 avx 256 256 256 16 256 5 4\n",
      "\t1428.72 -O2 avx 256 256 256 16 256 5 5\n",
      "\t1429.44 -O2 avx 256 256 256 16 256 5 6\n",
      "\t1430.43 -O2 avx 256 256 256 16 256 4 6\n",
      "\t1434.36 -O3 avx 256 256 256 16 256 4 6\n",
      "\t1451.09 -O3 avx 256 256 256 16 256 4 7\n",
      "\t1458.41 -O3 avx 256 256 256 16 256 4 8\n",
      "\t1459.59 -Ofast avx 256 256 256 16 256 4 8\n",
      "\t1469.32 -Ofast avx 256 256 256 16 256 4 9\n",
      "\t1472.69 -Ofast avx2 256 256 256 16 256 4 9\n",
      "\t1478.88 -Ofast avx2 256 256 256 16 256 4 10\n",
      "\t1481.73 -O2 avx2 256 256 256 16 256 4 10\n",
      "\t1482.48 -O2 avx 256 256 256 16 256 4 10\n",
      "\t1484.38 -O2 avx 256 256 256 16 256 4 11\n",
      "[info] [Me=0] Best solution found:\n",
      "\t1484.38 -O2 avx 256 256 256 16 256 4 11\n",
      "\n",
      "[info] [Me=0] Gathering solutions from all processes\n",
      "[info] [Me=0] Best solutions:\n",
      "\t1484.38 -O2 avx 256 256 256 16 256 4 11 Final evaluation: 1481.6\n",
      "[info] [Me=0] Best overall:\n",
      "\t1481.6 -O2 avx 256 256 256 16 256 4 11\n",
      "[info] [Me=0] Total cost evaluations: 52\n",
      "[info] [Me=0] Elapsed time: 3.35 seconds\n",
      "[info] [Me=0] \n",
      "Run finished\n"
     ]
    }
   ],
   "source": [
    "\n",
    "import pexpect\n",
    "\n",
    "child = pexpect.spawn(f\"sshpass -p {PASSWORD} \\\n",
    "                      ssh -tt {USER}@chome.metz.supelec.fr \\\n",
    "                      srun -p cpu_tp -N 1 -n 32 --pty bash\",\n",
    "                      timeout=5*60)\n",
    "\n",
    "prompt = f\"{USER}@kyle[0-9]+:\"\n",
    "\n",
    "for i in range(len(repeated_runs)):\n",
    "    occupied = child.expect([prompt, \"srun: job [1-9]+ queued and waiting for resources\"])\n",
    "\n",
    "    if occupied == 0:\n",
    "        #cmd = f\"python3 -m optimizer.main {repeated_runs[i]} --log convergence_alg{i//n_stat}_run{i%n_stat}.log\"\n",
    "        cmd = f\"python3 -m optimizer.main {repeated_runs[i]} --log convergence_alg{0}_run{1}.log\"\n",
    "        child.sendline(cmd)\n",
    "        running = 1\n",
    "        while running == 1:\n",
    "            running = child.expect(['Run finished', '\\n'])\n",
    "            output = child.before.decode()\n",
    "            print(output)\n",
    "        output = child.after.decode()\n",
    "        print(output)\n",
    "\n",
    "    elif occupied == 1:\n",
    "        raise Exception(\"Error: no resource available. Try running `mysrun` and `scancel` on the remote machine.\")\n",
    "    \n",
    "child.close()\n"
   ]
  },
  {
   "cell_type": "code",
   "execution_count": null,
   "metadata": {},
   "outputs": [],
   "source": [
    "# make get_logs\n",
    "!mkdir -p tmp/\n",
    "!sshpass -p {PASSWORD} \\\n",
    "    scp '{USER}@chome.metz.supelec.fr:/usr/users/{GROUP}/{USER}/convergence_alg*.log' ./tmp/"
   ]
  },
  {
   "attachments": {},
   "cell_type": "markdown",
   "metadata": {},
   "source": [
    "### Convert logs to data"
   ]
  },
  {
   "cell_type": "code",
   "execution_count": null,
   "metadata": {},
   "outputs": [],
   "source": [
    "from optimizer.logger import log_to_list\n",
    "import numpy as np\n",
    "\n",
    "data = {}\n",
    "alg_to_name = {0:'hillclimbing', 1:'greedy', 2:'tabu', 3:'simulated_annealing', 4:'csa'}\n",
    "\n",
    "for i in range(n_stat*len(runs)):\n",
    "    alg = i//2\n",
    "    run = i%2\n",
    "    alg_name = alg_to_name[alg]\n",
    "    \n",
    "    data[alg_name+str(run)] = log_to_list(f'tmp/convergence_alg{alg}_run{run}.log')\n"
   ]
  },
  {
   "attachments": {},
   "cell_type": "markdown",
   "metadata": {},
   "source": [
    "### Plot graphs"
   ]
  },
  {
   "cell_type": "code",
   "execution_count": null,
   "metadata": {},
   "outputs": [],
   "source": [
    "# Extract data with flairs (either Initial or New best) -> Hill Climbing and Simulated Annealing\n",
    "new_data = {}\n",
    "\n",
    "for i in range(n_stat):\n",
    "    new_data[f'hillclimbing{n_stat}'] = []\n",
    "    new_data[f'simulated_annealing{n_stat}'] = []\n",
    "\n",
    "for key in data:\n",
    "    if 'hillclimbing' in key or 'simulated_annealing' in key:\n",
    "        for line in data[key]:\n",
    "            if 'flair' in line:\n",
    "                new_data[key].append(line)\n",
    "    else:\n",
    "        new_data[key] = data[key]\n",
    "                \n",
    "# Starts x and y variables for all the algorithms \n",
    "\n",
    "x0,y0 = [],[]\n",
    "x1,y1 = [],[]\n",
    "x2,y2 = [],[]\n",
    "x3,y3 = [],[]\n",
    "x4,y4 = [],[]\n",
    "x5,y5 = [],[]\n",
    "\n",
    "# For each iteration of each algorithm, writes the x (Nmbr of evaluations) and y (cost function) values\n",
    "\n",
    "for k in range(n_stat):\n",
    "    y0 += [float(new_data[f'hillclimbing{k}'][i]['Cost']) for i in range(0, len(new_data[f'hillclimbing{k}']))]\n",
    "    x0 += [float(new_data[f'hillclimbing{k}'][i]['eval']) for i in range(0, len(new_data[f'hillclimbing{k}']))]\n",
    "\n",
    "    y1 += [float(new_data[f'greedy{k}'][i]['Cost']) for i in range(0, len(new_data[f'greedy{k}']))]\n",
    "    x1 += [float(new_data[f'greedy{k}'][i]['eval']) for i in range(0, len(new_data[f'greedy{k}']))]\n",
    "\n",
    "    y2 += [float(new_data[f'tabu{k}'][i]['Cost']) for i in range(0, len(new_data[f'tabu{k}']))]\n",
    "    x2 += [float(new_data[f'tabu{k}'][i]['eval']) for i in range(0, len(new_data[f'tabu{k}']))]\n",
    "\n",
    "    y3 += [float(new_data[f'simulated_annealing{k}'][i]['Cost']) for i in range(0, len(new_data[f'simulated_annealing{k}']))]\n",
    "    x3 += [float(new_data[f'simulated_annealing{k}'][i]['eval']) for i in range(0, len(new_data[f'simulated_annealing{k}']))]\n",
    "\n",
    "    y4 += [float(new_data[f'csa{k}'][i]['Cost']) for i in range(0, len(new_data[f'csa{k}']))]\n",
    "    x4 += [float(new_data[f'csa{k}'][i]['eval']) for i in range(0, len(new_data[f'csa{k}']))] "
   ]
  },
  {
   "attachments": {},
   "cell_type": "markdown",
   "metadata": {},
   "source": [
    "### Statistical Treatement"
   ]
  },
  {
   "cell_type": "code",
   "execution_count": null,
   "metadata": {},
   "outputs": [],
   "source": [
    "\n",
    "for (x,y) in [(x0,y0),(x1,y1),(x2,y2),(x3,y3),(x4,y4)]:\n",
    "    last_eval = min([max(x[i]) for i in range(len(x))])     # Determines which is the first limiting value for x, among the different runs\n",
    "    \n",
    "    # Define the common set of x values\n",
    "    x_common = np.arange(0, last_eval, 10)\n",
    "\n",
    "    # Initialize an array to store the interpolated y values\n",
    "    y_interp = np.zeros((len(x_common), n_stat))\n",
    "\n",
    "\n",
    "\n",
    "\n",
    "\n",
    "\n",
    "\n",
    "\n",
    "\n",
    "\n"
   ]
  },
  {
   "attachments": {},
   "cell_type": "markdown",
   "metadata": {},
   "source": [
    "### Convergence speed comparison per number of evaluations"
   ]
  },
  {
   "cell_type": "code",
   "execution_count": null,
   "metadata": {},
   "outputs": [],
   "source": [
    "from matplotlib import pyplot as plt\n",
    "\n",
    "plt.plot(x0, y0, label='Hill Climbing')\n",
    "plt.plot(x1, y1, label='Greedy Hill Climbing')\n",
    "plt.plot(x2, y2, label='Tabu-Greedy Hill Climbing')\n",
    "plt.plot(x3, y3, label='Simulated Annealing')\n",
    "plt.legend()\n",
    "plt.xlabel(\"No. of evaluations\")\n",
    "plt.ylabel(\"Cost (throughput)\")\n",
    "plt.title(\"Algorithm convergence speed comparison\")\n",
    "plt.grid()"
   ]
  }
 ],
 "metadata": {
  "kernelspec": {
   "display_name": "base",
   "language": "python",
   "name": "python3"
  },
  "language_info": {
   "codemirror_mode": {
    "name": "ipython",
    "version": 3
   },
   "file_extension": ".py",
   "mimetype": "text/x-python",
   "name": "python",
   "nbconvert_exporter": "python",
   "pygments_lexer": "ipython3",
   "version": "3.10.6"
  },
  "orig_nbformat": 4
 },
 "nbformat": 4,
 "nbformat_minor": 2
}
