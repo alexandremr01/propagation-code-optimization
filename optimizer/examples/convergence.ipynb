{
 "cells": [
  {
   "attachments": {},
   "cell_type": "markdown",
   "metadata": {},
   "source": [
    "# Convergence speed analysis\n",
    "\n",
    "This notebook assumes the user is in his own machine."
   ]
  },
  {
   "attachments": {},
   "cell_type": "markdown",
   "metadata": {},
   "source": [
    "**Change this if necessary:**"
   ]
  },
  {
   "cell_type": "code",
   "execution_count": 58,
   "metadata": {},
   "outputs": [],
   "source": [
    "USER = \"st76i1_1\"\n",
    "GROUP = \"st76i1\"\n",
    "PASSWORD = input()"
   ]
  },
  {
   "attachments": {},
   "cell_type": "markdown",
   "metadata": {},
   "source": [
    "### Generate runs"
   ]
  },
  {
   "cell_type": "code",
   "execution_count": null,
   "metadata": {},
   "outputs": [],
   "source": [
    "# make upload\n",
    "!sshpass -p {PASSWORD} \\\n",
    "    scp -r ../../optimizer/ {USER}@chome.metz.supelec.fr:/usr/users/{GROUP}/{USER}/\n"
   ]
  },
  {
   "cell_type": "code",
   "execution_count": 92,
   "metadata": {},
   "outputs": [
    {
     "name": "stdout",
     "output_type": "stream",
     "text": [
      " ~\u0007\u001b[01;32mst76i1_1@kyle68\u001b[00m:\u001b[01;34m~\u001b[00m$ python3 -m optimizer.main --algorithm hill_climbing --steps 100 --log convergence_run_0.log\n",
      "MPI startup(): PMI server not found. Please set I_MPI_PMI_LIBRARY variable if it is not a singleton case.\n",
      "[info] [Me=0] Args:\n",
      "\talgorithm: hill_climbing\n",
      "\tbatch: False\n",
      "\thparams: {}\n",
      "\tlog: convergence_run_0.log\n",
      "\tphase: deploy\n",
      "\tproblem_size: [256, 256, 256]\n",
      "\tseed: 33\n",
      "\tsteps: 100\n",
      "[info] [Me=0] Hyperparameters:\n",
      "[info] [Me=0] real seed: 33\n",
      "[info] [Me=0] Executed command: /usr/bin/mpirun -np 1 -map-by ppr:1:node:PE=16 python3 -m optimizer.main --algorithm hill_climbing --hparams '{}' --log convergence_run_0.log --phase run --problem_size 256 256 256 --seed 33 --steps 100 \n",
      "Unable to init server: Could not connect: Connection refused\n",
      "Unable to init server: Impossible de se connecter : Connection refused\n",
      "\n",
      "(main.py:629400): Gdk-CRITICAL **: 01:45:33.789: gdk_cursor_new_for_display: assertion 'GDK_IS_DISPLAY (display)' failed\n",
      "[info] [Me=0] Args:\n",
      "\talgorithm: hill_climbing\n",
      "\tbatch: False\n",
      "\thparams: {}\n",
      "\tlog: convergence_run_0.log\n",
      "\tphase: run\n",
      "\tproblem_size: [256, 256, 256]\n",
      "\tseed: 33\n",
      "\tsteps: 100\n",
      "[info] [Me=0] Hyperparameters:\n",
      "[info] [Me=0] real seed: 33\n",
      "[info] [Me=0] Simulator initialized\n",
      "[info] [Me=0] Starting hill_climbing\n",
      "[01:45:35]\t[Me=0]\t[k=0]\t[eval=1]\tCost=1160.24\t-O2 avx 256 256 256 16 256 3 3\t(Initial)\n",
      "[01:45:37]\t[Me=0]\t[k=1]\t[eval=2]\tCost=1162.15\t-O2 avx512 256 256 256 16 256 3 3\t(New best!)\n",
      "[01:45:38]\t[Me=0]\t[k=2]\t[eval=3]\tCost=1161.11\t-O2 avx2 256 256 256 16 256 3 3\n",
      "[01:45:40]\t[Me=0]\t[k=3]\t[eval=4]\tCost=1219.7\t-O2 avx512 256 256 256 16 256 3 4\t(New best!)\n",
      "[01:45:41]\t[Me=0]\t[k=4]\t[eval=5]\tCost=1205.44\t-O2 avx512 256 256 256 16 256 2 4\n",
      "[01:45:43]\t[Me=0]\t[k=5]\t[eval=6]\tCost=1218.48\t-O2 avx2 256 256 256 16 256 3 4\n",
      "[01:45:44]\t[Me=0]\t[k=6]\t[eval=7]\tCost=1242.92\t-O2 avx512 256 256 256 16 256 3 5\t(New best!)\n",
      "[01:45:46]\t[Me=0]\t[k=7]\t[eval=8]\tCost=1241.32\t-O2 avx 256 256 256 16 256 3 5\n",
      "[01:45:48]\t[Me=0]\t[k=8]\t[eval=9]\tCost=1219.62\t-O2 avx512 256 256 256 16 256 3 4\n",
      "[01:45:49]\t[Me=0]\t[k=9]\t[eval=10]\tCost=1289.6\t-O2 avx512 256 256 256 16 256 4 5\t(New best!)\n",
      "[01:45:51]\t[Me=0]\t[k=10]\t[eval=11]\tCost=1275.62\t-O2 avx512 256 256 256 16 256 5 5\n"
     ]
    },
    {
     "ename": "KeyboardInterrupt",
     "evalue": "",
     "output_type": "error",
     "traceback": [
      "\u001b[0;31m---------------------------------------------------------------------------\u001b[0m",
      "\u001b[0;31mKeyboardInterrupt\u001b[0m                         Traceback (most recent call last)",
      "Cell \u001b[0;32mIn[92], line 28\u001b[0m\n\u001b[1;32m     26\u001b[0m running \u001b[39m=\u001b[39m \u001b[39m1\u001b[39m\n\u001b[1;32m     27\u001b[0m \u001b[39mwhile\u001b[39;00m running \u001b[39m==\u001b[39m \u001b[39m1\u001b[39m:\n\u001b[0;32m---> 28\u001b[0m     running \u001b[39m=\u001b[39m child\u001b[39m.\u001b[39;49mexpect([\u001b[39m'\u001b[39;49m\u001b[39mRun finished\u001b[39;49m\u001b[39m'\u001b[39;49m, \u001b[39m'\u001b[39;49m\u001b[39m\\n\u001b[39;49;00m\u001b[39m'\u001b[39;49m])\n\u001b[1;32m     29\u001b[0m     output \u001b[39m=\u001b[39m child\u001b[39m.\u001b[39mbefore\u001b[39m.\u001b[39mdecode()\n\u001b[1;32m     30\u001b[0m     \u001b[39mprint\u001b[39m(output)\n",
      "File \u001b[0;32m~/.local/lib/python3.8/site-packages/pexpect/spawnbase.py:343\u001b[0m, in \u001b[0;36mSpawnBase.expect\u001b[0;34m(self, pattern, timeout, searchwindowsize, async_, **kw)\u001b[0m\n\u001b[1;32m    340\u001b[0m     \u001b[39mraise\u001b[39;00m \u001b[39mTypeError\u001b[39;00m(\u001b[39m\"\u001b[39m\u001b[39mUnknown keyword arguments: \u001b[39m\u001b[39m{}\u001b[39;00m\u001b[39m\"\u001b[39m\u001b[39m.\u001b[39mformat(kw))\n\u001b[1;32m    342\u001b[0m compiled_pattern_list \u001b[39m=\u001b[39m \u001b[39mself\u001b[39m\u001b[39m.\u001b[39mcompile_pattern_list(pattern)\n\u001b[0;32m--> 343\u001b[0m \u001b[39mreturn\u001b[39;00m \u001b[39mself\u001b[39;49m\u001b[39m.\u001b[39;49mexpect_list(compiled_pattern_list,\n\u001b[1;32m    344\u001b[0m         timeout, searchwindowsize, async_)\n",
      "File \u001b[0;32m~/.local/lib/python3.8/site-packages/pexpect/spawnbase.py:372\u001b[0m, in \u001b[0;36mSpawnBase.expect_list\u001b[0;34m(self, pattern_list, timeout, searchwindowsize, async_, **kw)\u001b[0m\n\u001b[1;32m    370\u001b[0m     \u001b[39mreturn\u001b[39;00m expect_async(exp, timeout)\n\u001b[1;32m    371\u001b[0m \u001b[39melse\u001b[39;00m:\n\u001b[0;32m--> 372\u001b[0m     \u001b[39mreturn\u001b[39;00m exp\u001b[39m.\u001b[39;49mexpect_loop(timeout)\n",
      "File \u001b[0;32m~/.local/lib/python3.8/site-packages/pexpect/expect.py:169\u001b[0m, in \u001b[0;36mExpecter.expect_loop\u001b[0;34m(self, timeout)\u001b[0m\n\u001b[1;32m    167\u001b[0m     \u001b[39mreturn\u001b[39;00m \u001b[39mself\u001b[39m\u001b[39m.\u001b[39mtimeout()\n\u001b[1;32m    168\u001b[0m \u001b[39m# Still have time left, so read more data\u001b[39;00m\n\u001b[0;32m--> 169\u001b[0m incoming \u001b[39m=\u001b[39m spawn\u001b[39m.\u001b[39;49mread_nonblocking(spawn\u001b[39m.\u001b[39;49mmaxread, timeout)\n\u001b[1;32m    170\u001b[0m \u001b[39mif\u001b[39;00m \u001b[39mself\u001b[39m\u001b[39m.\u001b[39mspawn\u001b[39m.\u001b[39mdelayafterread \u001b[39mis\u001b[39;00m \u001b[39mnot\u001b[39;00m \u001b[39mNone\u001b[39;00m:\n\u001b[1;32m    171\u001b[0m     time\u001b[39m.\u001b[39msleep(\u001b[39mself\u001b[39m\u001b[39m.\u001b[39mspawn\u001b[39m.\u001b[39mdelayafterread)\n",
      "File \u001b[0;32m~/.local/lib/python3.8/site-packages/pexpect/pty_spawn.py:500\u001b[0m, in \u001b[0;36mspawn.read_nonblocking\u001b[0;34m(self, size, timeout)\u001b[0m\n\u001b[1;32m    495\u001b[0m         timeout \u001b[39m=\u001b[39m \u001b[39m2\u001b[39m\n\u001b[1;32m    497\u001b[0m \u001b[39m# Because of the select(0) check above, we know that no data\u001b[39;00m\n\u001b[1;32m    498\u001b[0m \u001b[39m# is available right now. But if a non-zero timeout is given\u001b[39;00m\n\u001b[1;32m    499\u001b[0m \u001b[39m# (possibly timeout=None), we call select() with a timeout.\u001b[39;00m\n\u001b[0;32m--> 500\u001b[0m \u001b[39mif\u001b[39;00m (timeout \u001b[39m!=\u001b[39m \u001b[39m0\u001b[39m) \u001b[39mand\u001b[39;00m select(timeout):\n\u001b[1;32m    501\u001b[0m     \u001b[39mreturn\u001b[39;00m \u001b[39msuper\u001b[39m(spawn, \u001b[39mself\u001b[39m)\u001b[39m.\u001b[39mread_nonblocking(size)\n\u001b[1;32m    503\u001b[0m \u001b[39mif\u001b[39;00m \u001b[39mnot\u001b[39;00m \u001b[39mself\u001b[39m\u001b[39m.\u001b[39misalive():\n\u001b[1;32m    504\u001b[0m     \u001b[39m# Some platforms, such as Irix, will claim that their\u001b[39;00m\n\u001b[1;32m    505\u001b[0m     \u001b[39m# processes are alive; timeout on the select; and\u001b[39;00m\n\u001b[1;32m    506\u001b[0m     \u001b[39m# then finally admit that they are not alive.\u001b[39;00m\n",
      "File \u001b[0;32m~/.local/lib/python3.8/site-packages/pexpect/pty_spawn.py:450\u001b[0m, in \u001b[0;36mspawn.read_nonblocking.<locals>.select\u001b[0;34m(timeout)\u001b[0m\n\u001b[1;32m    449\u001b[0m \u001b[39mdef\u001b[39;00m \u001b[39mselect\u001b[39m(timeout):\n\u001b[0;32m--> 450\u001b[0m     \u001b[39mreturn\u001b[39;00m select_ignore_interrupts([\u001b[39mself\u001b[39;49m\u001b[39m.\u001b[39;49mchild_fd], [], [], timeout)[\u001b[39m0\u001b[39m]\n",
      "File \u001b[0;32m~/.local/lib/python3.8/site-packages/pexpect/utils.py:143\u001b[0m, in \u001b[0;36mselect_ignore_interrupts\u001b[0;34m(iwtd, owtd, ewtd, timeout)\u001b[0m\n\u001b[1;32m    141\u001b[0m \u001b[39mwhile\u001b[39;00m \u001b[39mTrue\u001b[39;00m:\n\u001b[1;32m    142\u001b[0m     \u001b[39mtry\u001b[39;00m:\n\u001b[0;32m--> 143\u001b[0m         \u001b[39mreturn\u001b[39;00m select\u001b[39m.\u001b[39;49mselect(iwtd, owtd, ewtd, timeout)\n\u001b[1;32m    144\u001b[0m     \u001b[39mexcept\u001b[39;00m \u001b[39mInterruptedError\u001b[39;00m:\n\u001b[1;32m    145\u001b[0m         err \u001b[39m=\u001b[39m sys\u001b[39m.\u001b[39mexc_info()[\u001b[39m1\u001b[39m]\n",
      "\u001b[0;31mKeyboardInterrupt\u001b[0m: "
     ]
    }
   ],
   "source": [
    "# run algorithm on cluster\n",
    "runs = [\n",
    "    \"--algorithm hill_climbing --steps 100\",\n",
    "    \"--algorithm greedy --steps 10\",\n",
    "    \"--algorithm tabu_greedy --steps 10 --hparams '{\\\"n_tabu\\\":5}'\",\n",
    "    \"--algorithm simulated_annealing --steps 100 --hparams '{\\\"t0\\\":20}'\",\n",
    "    \"--algorithm csa --steps 100\",\n",
    "    \"--algorithm cmaes --steps 100\",\n",
    "]\n",
    "\n",
    "import pexpect\n",
    "\n",
    "child = pexpect.spawn(f\"sshpass -p {PASSWORD} \\\n",
    "                      ssh -tt {USER}@chome.metz.supelec.fr \\\n",
    "                      srun -p cpu_tp -N 1 -n 32 --pty bash\",\n",
    "                      timeout=5*60)\n",
    "\n",
    "prompt = f\"{USER}@kyle[0-9]+:\"\n",
    "\n",
    "for i in range(len(runs)):\n",
    "    occupied = child.expect([prompt, \"srun: job [1-9]+ queued and waiting for resources\"])\n",
    "\n",
    "    if occupied == 0:\n",
    "        cmd = f\"python3 -m optimizer.main {runs[i]} --log convergence_run_{i}.log\"\n",
    "        child.sendline(cmd)\n",
    "        running = 1\n",
    "        while running == 1:\n",
    "            running = child.expect(['Run finished', '\\n'])\n",
    "            output = child.before.decode()\n",
    "            print(output)\n",
    "        output = child.after.decode()\n",
    "        print(output)\n",
    "\n",
    "    elif occupied == 1:\n",
    "        raise Exception(\"Error: no resource available. Try running `mysrun` and `scancel` in the remote machine.\")\n",
    "    \n",
    "child.close()\n"
   ]
  },
  {
   "cell_type": "code",
   "execution_count": 88,
   "metadata": {},
   "outputs": [],
   "source": [
    "# make get_logs\n",
    "!mkdir -p tmp/\n",
    "!sshpass -p {PASSWORD} \\\n",
    "    scp '{USER}@chome.metz.supelec.fr:/usr/users/{GROUP}/{USER}/convergence_*.log' ./tmp/"
   ]
  }
 ],
 "metadata": {
  "kernelspec": {
   "display_name": "base",
   "language": "python",
   "name": "python3"
  },
  "language_info": {
   "codemirror_mode": {
    "name": "ipython",
    "version": 3
   },
   "file_extension": ".py",
   "mimetype": "text/x-python",
   "name": "python",
   "nbconvert_exporter": "python",
   "pygments_lexer": "ipython3",
   "version": "3.8.13"
  },
  "orig_nbformat": 4
 },
 "nbformat": 4,
 "nbformat_minor": 2
}
