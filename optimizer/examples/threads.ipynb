{
 "cells": [
  {
   "attachments": {},
   "cell_type": "markdown",
   "metadata": {},
   "source": [
    "# Number of threads speedup analysis\n",
    "\n",
    "This notebook analyzes how much of an impact using a greater number of threads has in the optimized solutions' cost and energy consumption.\n",
    "\n",
    "**TODO:**\n",
    "\n",
    "[ ] add CLI option to fix number of threads in optimizer search\n",
    "\n",
    "[ ] get energy consumption"
   ]
  },
  {
   "cell_type": "code",
   "execution_count": 1,
   "metadata": {},
   "outputs": [],
   "source": [
    "USER = \"st76i1_1\"\n",
    "GROUP = \"st76i1\"\n",
    "PASSWORD = input()"
   ]
  },
  {
   "attachments": {},
   "cell_type": "markdown",
   "metadata": {},
   "source": [
    "**Change this:**"
   ]
  },
  {
   "cell_type": "code",
   "execution_count": 2,
   "metadata": {},
   "outputs": [],
   "source": [
    "import sys\n",
    "sys.path.append('/home/lucca/propagation-code-optimization') # change this"
   ]
  },
  {
   "attachments": {},
   "cell_type": "markdown",
   "metadata": {},
   "source": [
    "### Generate runs"
   ]
  },
  {
   "cell_type": "code",
   "execution_count": null,
   "metadata": {},
   "outputs": [],
   "source": [
    "# make upload\n",
    "!sshpass -p {PASSWORD} \\\n",
    "    scp -r ../../optimizer/ {USER}@chome.metz.supelec.fr:/usr/users/{GROUP}/{USER}/"
   ]
  },
  {
   "cell_type": "code",
   "execution_count": null,
   "metadata": {},
   "outputs": [],
   "source": [
    "# run algorithm on cluster\n",
    "runs = [\n",
    "    \"--algorithm hill_climbing --steps 100\",\n",
    "    \"--algorithm greedy --steps 10\",\n",
    "    \"--algorithm tabu_greedy --steps 10 --hparams '{\\\"n_tabu\\\":5}'\",\n",
    "    \"--algorithm simulated_annealing --steps 100 --hparams '{\\\"t0\\\":20}'\",\n",
    "    \"--algorithm csa --steps 100\",\n",
    "    \"--algorithm cmaes --steps 100\",\n",
    "]\n",
    "\n",
    "import pexpect\n",
    "\n",
    "child = pexpect.spawn(f\"sshpass -p {PASSWORD} \\\n",
    "                      ssh -tt {USER}@chome.metz.supelec.fr \\\n",
    "                      srun -p cpu_tp -N 1 -n 32 --pty bash\",\n",
    "                      timeout=5*60)\n",
    "\n",
    "prompt = f\"{USER}@kyle[0-9]+:\"\n",
    "\n",
    "for i in range(len(runs)):\n",
    "    occupied = child.expect([prompt, \"srun: job [1-9]+ queued and waiting for resources\"])\n",
    "\n",
    "    if occupied == 0:\n",
    "        cmd = f\"python3 -m optimizer.main {runs[i]} --log threads_run_{i}.log\"\n",
    "        child.sendline(cmd)\n",
    "        running = 1\n",
    "        while running == 1:\n",
    "            running = child.expect(['Run finished', '\\n'])\n",
    "            output = child.before.decode()\n",
    "            print(output)\n",
    "        output = child.after.decode()\n",
    "        print(output)\n",
    "\n",
    "    elif occupied == 1:\n",
    "        raise Exception(\"Error: no resource available. Try running `mysrun` and `scancel` on the remote machine.\")\n",
    "    \n",
    "child.close()"
   ]
  },
  {
   "cell_type": "code",
   "execution_count": null,
   "metadata": {},
   "outputs": [],
   "source": [
    "# make get_logs\n",
    "!mkdir -p tmp/\n",
    "!sshpass -p {PASSWORD} \\\n",
    "    scp '{USER}@chome.metz.supelec.fr:/usr/users/{GROUP}/{USER}/threads_run_*.log' ./tmp/"
   ]
  },
  {
   "attachments": {},
   "cell_type": "markdown",
   "metadata": {},
   "source": [
    "### Convert logs to data"
   ]
  },
  {
   "attachments": {},
   "cell_type": "markdown",
   "metadata": {},
   "source": [
    "### Plot graphs\n",
    "\n",
    "**TODO:**\n",
    "\n",
    "[ ] solution cost vs. evaluation no. (for many nthreads)\n",
    "\n",
    "[ ] solution energy consumption vs. evaluation no. (for many nthreads)\n",
    "\n",
    "[ ] speedup with 16 vs 32 threads (vs. evaluation no.)\n",
    "\n",
    "[ ] compare speedup with energy consumption increase: in the same graph, plot these curves:\n",
    "\n",
    "* speedup 16-32 threads vs evaluation no.\n",
    "\n",
    "* energy consumption difference 16-32 threads vs. evaluation no."
   ]
  }
 ],
 "metadata": {
  "kernelspec": {
   "display_name": "base",
   "language": "python",
   "name": "python3"
  },
  "language_info": {
   "codemirror_mode": {
    "name": "ipython",
    "version": 3
   },
   "file_extension": ".py",
   "mimetype": "text/x-python",
   "name": "python",
   "nbconvert_exporter": "python",
   "pygments_lexer": "ipython3",
   "version": "3.8.13"
  },
  "orig_nbformat": 4
 },
 "nbformat": 4,
 "nbformat_minor": 2
}
